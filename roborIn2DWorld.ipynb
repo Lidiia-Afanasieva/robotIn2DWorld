{
  "nbformat": 4,
  "nbformat_minor": 0,
  "metadata": {
    "colab": {
      "name": "roborIn2DWorld.ipynb",
      "provenance": [],
      "collapsed_sections": [],
      "authorship_tag": "ABX9TyNTwQSGKjsD85CGsQuxEFVN",
      "include_colab_link": true
    },
    "kernelspec": {
      "name": "python3",
      "display_name": "Python 3"
    },
    "language_info": {
      "name": "python"
    }
  },
  "cells": [
    {
      "cell_type": "markdown",
      "metadata": {
        "id": "view-in-github",
        "colab_type": "text"
      },
      "source": [
        "<a href=\"https://colab.research.google.com/github/Lidiia-Afanasieva/robotIn2DWorld/blob/master/roborIn2DWorld.ipynb\" target=\"_parent\"><img src=\"https://colab.research.google.com/assets/colab-badge.svg\" alt=\"Open In Colab\"/></a>"
      ]
    },
    {
      "cell_type": "code",
      "execution_count": null,
      "metadata": {
        "id": "yAtEHq_R4DnL"
      },
      "outputs": [],
      "source": [
        "import random\n",
        "import numpy as np\n",
        "import copy"
      ]
    },
    {
      "cell_type": "code",
      "source": [
        "p_map = np.zeros((4, 4), int)\n",
        "p_map[2][2] = 1\n",
        "measurements = ['black', 'red', 'yellow']  # так лучше\n",
        "\n",
        "pHit = 0.8  # вероятность что датчик прав\n",
        "pMiss = 0.2  # вероятность что датчик ошибся\n",
        "\n",
        "p_forward = 0.6  # вероятность того, что робот идёт прямо\n",
        "p_stay = 0.1  # вероятность того, что робот не сдвинулся \n",
        "p_left = 0.15  # вероятность того, что робот по диагонали в лево\n",
        "p_right = 0.15  # вероятность того, что робот идёт по диагонали вправо\n",
        "\n",
        "# color_map = np.array([random.choice(measurements) for item in np.nditer(p_map)]).reshape((4, 4))\n",
        "\n",
        "color_map = np.array([['yellow', 'red', 'red', 'black'],\n",
        "                     ['black', 'red', 'yellow', 'yellow'],\n",
        "                     ['red', 'black', 'black', 'red'],['red', 'red', 'yellow', 'red']])\n",
        "\n",
        "real_i = 2  # ожидаемая координата игрека\n",
        "real_j = 2  # ожидаемая координата икса\n",
        "prediction = (0, 0)  # предсказание в какой мы точке\n",
        "false_count = 0  # количество несовпадения перемещений\n",
        "\n",
        "room_length = len(p_map)\n",
        "room_width = len(p_map[0])\n",
        "\n",
        "print(p_map)\n",
        "print(color_map)\n",
        "print(f'start element is: {color_map[real_i][real_j]}')"
      ],
      "metadata": {
        "colab": {
          "base_uri": "https://localhost:8080/"
        },
        "id": "8ie_TO_UIYa2",
        "outputId": "17cc64e4-46a8-4fec-dd6f-a5aaa71f5c15"
      },
      "execution_count": null,
      "outputs": [
        {
          "output_type": "stream",
          "name": "stdout",
          "text": [
            "[[0 0 0 0]\n",
            " [0 0 0 0]\n",
            " [0 0 1 0]\n",
            " [0 0 0 0]]\n",
            "[['yellow' 'red' 'red' 'black']\n",
            " ['black' 'red' 'yellow' 'yellow']\n",
            " ['red' 'black' 'black' 'red']\n",
            " ['red' 'red' 'yellow' 'red']]\n",
            "start element is: black\n"
          ]
        }
      ]
    },
    {
      "cell_type": "code",
      "source": [
        "def find_max_element(arr : list) -> tuple:  # вернёт индексы максимального числа\n",
        "    gen = ((i, j) for i in range(room_length) for j in range(room_width))\n",
        "    return(max(gen, key = lambda x: arr[x[0]][x[1]]))"
      ],
      "metadata": {
        "id": "uhxPziOysvdc"
      },
      "execution_count": null,
      "outputs": []
    },
    {
      "cell_type": "code",
      "source": [
        "def sense_in_2d(p_map: list, real_color: str) -> list:\n",
        "    p_new = []\n",
        "\n",
        "    for i in range(room_length):\n",
        "\n",
        "        for j in range(room_width):\n",
        "\n",
        "            if real_color == color_map[i][j]:\n",
        "                # совпадение цвета - вероятность увеличится\n",
        "                p_new.append(pHit * p_map[i][j])\n",
        "            \n",
        "            else:\n",
        "                # несовпадение цвета - вероятность уменьшится\n",
        "                p_new.append(pMiss * p_map[i][j])\n",
        "    summ_p = sum(p_new)\n",
        "    p_new = [x / summ_p for x in p_new]     \n",
        "\n",
        "    return np.array(p_new).reshape((room_length, room_width))"
      ],
      "metadata": {
        "id": "KtHkNonHUpKE"
      },
      "execution_count": null,
      "outputs": []
    },
    {
      "cell_type": "code",
      "source": [
        "def move_in_2d(p_map: list, step: int) -> list:\n",
        "    p_new = []\n",
        "\n",
        "    for i in range(room_length):\n",
        "\n",
        "        for j in range(room_width):\n",
        "\n",
        "            current_probability = p_map[(i + step) % room_length][j] * p_forward\n",
        "            current_probability += p_map[i][j] * p_stay\n",
        "            current_probability += p_map[(i + step) % room_width][(j-step) % room_width] * p_left\n",
        "            current_probability += p_map[(i + step) % room_width][(j+step) % room_width] * p_right\n",
        "        \n",
        "            p_new.append(current_probability)   \n",
        "    \n",
        "    return np.array(p_new).reshape((room_length, room_width))"
      ],
      "metadata": {
        "id": "0I_nrsd13XdP"
      },
      "execution_count": null,
      "outputs": []
    },
    {
      "cell_type": "code",
      "source": [
        "def get_false_count():\n",
        "    print(f'false_count = {false_count}')\n",
        "    return None"
      ],
      "metadata": {
        "id": "QBi8POFR4mb6"
      },
      "execution_count": null,
      "outputs": []
    },
    {
      "cell_type": "code",
      "source": [
        "for k in range(10):\n",
        "    print('//////////////////////')\n",
        "\n",
        "    # first part of algorythm \n",
        "    p_map = sense_in_2d(p_map, color_map[real_i][real_j])\n",
        "    prediction = find_max_element(p_map)\n",
        "\n",
        "    print('sense: \\n', end = '')\n",
        "    print(p_map)\n",
        "    print(f' real = {real_i, real_j}, prediction = {prediction}')\n",
        "\n",
        "    if real_i != prediction[0] or real_j != prediction[1]:\n",
        "        false_count += 1\n",
        "\n",
        "    # second part of algorythm \n",
        "    p_map = move_in_2d(p_map, 1)\n",
        "    real_i = (real_i - 1) % len(p_map)                                             \n",
        "    prediction = find_max_element(p_map)\n",
        "\n",
        "    print('move:  \\n', end = '')\n",
        "    print(p_map)\n",
        "    print(f' real = {real_i, real_j}, prediction = {prediction} \\n')\n",
        "    \n",
        "    if real_i != prediction[0] or real_j != prediction[1]:\n",
        "        false_count += 1\n",
        "\n",
        "get_false_count()"
      ],
      "metadata": {
        "id": "hNicbtUG2dmH",
        "colab": {
          "base_uri": "https://localhost:8080/"
        },
        "outputId": "ec4d9181-5e69-4802-9906-606a1eb710a1"
      },
      "execution_count": null,
      "outputs": [
        {
          "output_type": "stream",
          "name": "stdout",
          "text": [
            "//////////////////////\n",
            "sense: \n",
            "[[0. 0. 0. 0.]\n",
            " [0. 0. 0. 0.]\n",
            " [0. 0. 1. 0.]\n",
            " [0. 0. 0. 0.]]\n",
            " real = (2, 2), prediction = (2, 2)\n",
            "move:  \n",
            "[[0.   0.   0.   0.  ]\n",
            " [0.   0.15 0.6  0.15]\n",
            " [0.   0.   0.1  0.  ]\n",
            " [0.   0.   0.   0.  ]]\n",
            " real = (1, 2), prediction = (1, 2) \n",
            "\n",
            "//////////////////////\n",
            "sense: \n",
            "[[0.         0.         0.         0.        ]\n",
            " [0.         0.04615385 0.73846154 0.18461538]\n",
            " [0.         0.         0.03076923 0.        ]\n",
            " [0.         0.         0.         0.        ]]\n",
            " real = (1, 2), prediction = (1, 2)\n",
            "move:  \n",
            "[[0.03461538 0.13846154 0.47769231 0.22153846]\n",
            " [0.         0.00923077 0.09230769 0.02307692]\n",
            " [0.         0.         0.00307692 0.        ]\n",
            " [0.         0.         0.         0.        ]]\n",
            " real = (0, 2), prediction = (0, 2) \n",
            "\n",
            "//////////////////////\n",
            "sense: \n",
            "[[0.0120353  0.19256486 0.66434876 0.07702594]\n",
            " [0.         0.01283766 0.03209414 0.00802354]\n",
            " [0.         0.         0.0010698  0.        ]\n",
            " [0.         0.         0.         0.        ]]\n",
            " real = (0, 2), prediction = (0, 2)\n",
            "move:  \n",
            "[[4.33270928e-03 3.17732014e-02 8.88205403e-02 1.73308371e-02]\n",
            " [0.00000000e+00 1.44423643e-03 3.85129714e-03 9.62824285e-04]\n",
            " [0.00000000e+00 0.00000000e+00 1.06980476e-04 0.00000000e+00]\n",
            " [4.76598021e-02 2.16996523e-01 4.39047874e-01 1.47673175e-01]]\n",
            " real = (3, 2), prediction = (3, 2) \n",
            "\n",
            "//////////////////////\n",
            "sense: \n",
            "[[7.39185983e-03 1.35517430e-02 3.78832816e-02 7.39185983e-03]\n",
            " [0.00000000e+00 6.15988319e-04 6.57054207e-03 1.64263552e-03]\n",
            " [0.00000000e+00 0.00000000e+00 4.56287644e-05 0.00000000e+00]\n",
            " [2.03276145e-02 9.25522449e-02 7.49041796e-01 6.29848056e-02]]\n",
            " real = (3, 2), prediction = (3, 2)\n",
            "move:  \n",
            "[[1.07797956e-03 2.71034860e-03 8.06944698e-03 2.71034860e-03]\n",
            " [0.00000000e+00 6.84431466e-05 6.84431466e-04 1.71107866e-04]\n",
            " [3.55271263e-02 1.70936759e-01 4.72760198e-01 1.53196295e-01]\n",
            " [9.60941778e-03 2.41775415e-02 1.00775689e-01 1.75248677e-02]]\n",
            " real = (2, 2), prediction = (2, 2) \n",
            "\n",
            "//////////////////////\n",
            "sense: \n",
            "[[3.66756778e-04 9.22131326e-04 2.74543645e-03 3.68852531e-03]\n",
            " [0.00000000e+00 2.32861446e-05 2.32861446e-04 5.82153615e-05]\n",
            " [1.20872555e-02 2.32628585e-01 6.43381428e-01 5.21213775e-02]\n",
            " [3.26937470e-03 8.22583058e-03 3.42865193e-02 5.96241733e-03]]\n",
            " real = (2, 2), prediction = (2, 2)\n",
            "move:  \n",
            "[[4.89009037e-05 1.41114036e-04 4.26485738e-04 4.38710964e-04]\n",
            " [4.99648476e-02 2.37899782e-01 4.28764637e-01 1.29598950e-01]\n",
            " [5.29858756e-03 3.38317409e-02 8.70382915e-02 1.44229722e-02]\n",
            " [1.23859003e-03 1.84269084e-03 5.76751230e-03 3.27618590e-03]]\n",
            " real = (1, 2), prediction = (1, 2) \n",
            "\n",
            "//////////////////////\n",
            "sense: \n",
            "[[7.26465028e-05 5.24092627e-05 1.58395321e-04 1.62935728e-04]\n",
            " [1.85567708e-02 8.83551523e-02 6.36966785e-01 1.92530399e-01]\n",
            " [1.96787701e-03 1.25649910e-02 3.23257190e-02 5.35664177e-03]\n",
            " [4.60008034e-04 6.84368974e-04 8.56813610e-03 1.21676406e-03]]\n",
            " real = (1, 2), prediction = (1, 2)\n",
            "move:  \n",
            "[[5.32741599e-02 1.51346866e-01 4.24328743e-01 2.13863067e-01]\n",
            " [5.72464820e-03 2.15185492e-02 8.57803548e-02 2.76110644e-02]\n",
            " [7.57962476e-04 3.02134210e-03 8.65862351e-03 2.61994423e-03]\n",
            " [1.21890454e-04 1.34538729e-04 9.84152551e-04 2.54094116e-04]]\n",
            " real = (0, 2), prediction = (0, 2) \n",
            "\n",
            "//////////////////////\n",
            "sense: \n",
            "[[1.90044421e-02 2.15959313e-01 6.05481611e-01 7.62911753e-02]\n",
            " [2.04214849e-03 3.07051692e-02 3.06003472e-02 9.84966964e-03]\n",
            " [1.08154903e-03 1.07780059e-03 3.08878281e-03 3.73844120e-03]\n",
            " [1.73927478e-04 1.91975508e-04 3.51075836e-04 3.62571042e-04]]\n",
            " real = (0, 2), prediction = (0, 2)\n",
            "move:  \n",
            "[[9.20895914e-03 4.49154072e-02 8.49915952e-02 1.84352937e-02]\n",
            " [1.57558054e-03 4.34274705e-03 5.63574067e-03 3.85358146e-03]\n",
            " [2.95693373e-04 3.01715861e-04 6.02705765e-04 6.70137242e-04]\n",
            " [5.52576313e-02 2.23267694e-01 4.07161648e-01 1.39483870e-01]]\n",
            " real = (3, 2), prediction = (3, 2) \n",
            "\n",
            "//////////////////////\n",
            "sense: \n",
            "[[1.61732365e-02 1.97206734e-02 3.73166270e-02 8.09424714e-03]\n",
            " [6.91778416e-04 1.90673762e-03 9.89777080e-03 6.76785328e-03]\n",
            " [1.29827888e-04 1.32472137e-04 2.64625533e-04 2.94232170e-04]\n",
            " [2.42615568e-02 9.80284840e-02 7.15077733e-01 6.12421444e-02]]\n",
            " real = (3, 2), prediction = (3, 2)\n",
            "move:  \n",
            "[[3.33357933e-03 4.70454230e-03 1.09715138e-02 6.45856907e-03]\n",
            " [2.11080220e-04 3.29325057e-04 1.21255805e-03 9.12492643e-04]\n",
            " [3.84605111e-02 1.69731231e-01 4.52963697e-01 1.47675603e-01]\n",
            " [1.63023357e-02 2.96587320e-02 9.80699876e-02 1.90042422e-02]]\n",
            " real = (2, 2), prediction = (2, 2) \n",
            "\n",
            "//////////////////////\n",
            "sense: \n",
            "[[1.15424901e-03 1.62894377e-03 3.79887733e-03 8.94509620e-03]\n",
            " [2.92345387e-04 1.14028521e-04 4.19847193e-04 3.15949802e-04]\n",
            " [1.33169193e-02 2.35077178e-01 6.27353180e-01 5.11325522e-02]\n",
            " [5.64466987e-03 1.02693107e-02 3.39566499e-02 6.58020273e-03]]\n",
            " real = (2, 2), prediction = (2, 2)\n",
            "move:  \n",
            "[[3.55328882e-04 3.38140377e-04 6.96292797e-04 1.19090839e-03]\n",
            " [5.09508456e-02 2.37158225e-01 4.19385352e-01 1.26811641e-01]\n",
            " [7.24592087e-03 3.56095022e-02 8.56367349e-02 1.50015748e-02]\n",
            " [2.84312239e-03 2.74726629e-03 7.26109738e-03 6.76804695e-03]]\n",
            " real = (1, 2), prediction = (1, 2) \n",
            "\n",
            "//////////////////////\n",
            "sense: \n",
            "[[5.34039990e-04 1.27051650e-04 2.61622554e-04 4.47467639e-04]\n",
            " [1.91440877e-02 8.91089792e-02 6.30313381e-01 1.90591002e-01]\n",
            " [2.72255627e-03 1.33797864e-02 3.21768391e-02 5.63663782e-03]\n",
            " [1.06826459e-03 1.03224796e-03 1.09130346e-02 2.54300164e-03]]\n",
            " real = (1, 2), prediction = (1, 2)\n",
            "move:  \n",
            "[[5.34948537e-02 1.50896713e-01 4.20169188e-01 2.11817968e-01]\n",
            " [6.40040616e-03 2.21736791e-02 8.51899052e-02 2.76759922e-02]\n",
            " [1.44950182e-03 3.75452229e-03 1.03017921e-02 3.88665964e-03]\n",
            " [5.13428346e-04 2.98805168e-04 1.33445488e-03 6.42130129e-04]]\n",
            " real = (0, 2), prediction = (0, 2) \n",
            "\n",
            "false_count= 0\n"
          ]
        }
      ]
    },
    {
      "cell_type": "code",
      "source": [
        "# на случай двухцветной работы\n",
        "# color_map = np.array([['red', 'red', 'green', 'red'],\n",
        "#                      ['green', 'green', 'red', 'green'],\n",
        "#                      ['red', 'red', 'green', 'green'],\n",
        "#                      ['red', 'green', 'red', 'red']])"
      ],
      "metadata": {
        "id": "JFEbL8fy6HoI"
      },
      "execution_count": null,
      "outputs": []
    },
    {
      "cell_type": "code",
      "source": [
        "# def move_in_2d(p_map: list, step: int) -> list:\n",
        "#     p_new = np.zeros((room_length, room_width))\n",
        "\n",
        "#     for i in range(room_length):\n",
        "\n",
        "#         for j in range(room_width):\n",
        "            \n",
        "#             p_new[(j+1) % room_length][i] += p_map[j][i]*p_forward\n",
        "#             p_new[(j+1) % room_length][(i+1)%room_length] += p_map[j][i]*p_left\n",
        "#             p_new[(j+1) % room_length][i-1] += p_map[j][i]*p_right\n",
        "        \n",
        "#             # p_new.append(current_probability)   \n",
        "    \n",
        "#     return p_new"
      ],
      "metadata": {
        "id": "l4P9RQvAWR2_"
      },
      "execution_count": null,
      "outputs": []
    },
    {
      "cell_type": "code",
      "source": [
        "matrix = [[1,2,3,4],[5,6,7,8],[9,10,11,12]]\n",
        "# print(find_max_element(matrix))\n",
        "# print([j for i in matrix for j in i])"
      ],
      "metadata": {
        "id": "LsWPTtl7RZz8"
      },
      "execution_count": null,
      "outputs": []
    }
  ]
}